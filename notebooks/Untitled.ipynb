{
 "cells": [
  {
   "cell_type": "code",
   "execution_count": 1,
   "id": "flexible-toyota",
   "metadata": {},
   "outputs": [],
   "source": [
    "from selenium import webdriver\n",
    "from selenium.webdriver.common.keys import Keys"
   ]
  },
  {
   "cell_type": "code",
   "execution_count": 2,
   "id": "matched-burst",
   "metadata": {},
   "outputs": [],
   "source": [
    "driver = webdriver.Chrome()\n",
    "driver.get(\"http://bonk.io\")"
   ]
  },
  {
   "cell_type": "code",
   "execution_count": 30,
   "id": "accepting-interaction",
   "metadata": {},
   "outputs": [],
   "source": [
    "div = driver.find_element_by_css_selector('div')"
   ]
  },
  {
   "cell_type": "code",
   "execution_count": 31,
   "id": "hundred-wedding",
   "metadata": {},
   "outputs": [
    {
     "data": {
      "text/plain": [
       "<selenium.webdriver.remote.webelement.WebElement (session=\"20e642cb4271c28b600d3a1a5c9e27c7\", element=\"17f1f6eb-11da-4dd4-9bbf-5d1830a683ad\")>"
      ]
     },
     "execution_count": 31,
     "metadata": {},
     "output_type": "execute_result"
    }
   ],
   "source": [
    "div.find_element_by_xpath(\"\")"
   ]
  },
  {
   "cell_type": "code",
   "execution_count": 36,
   "id": "italian-consumer",
   "metadata": {},
   "outputs": [
    {
     "data": {
      "text/plain": [
       "<selenium.webdriver.remote.webelement.WebElement (session=\"b462f83b176e7c1a46b04ed000f463e6\", element=\"0036addf-2c02-4f36-acce-9c239bf4fd22\")>"
      ]
     },
     "execution_count": 36,
     "metadata": {},
     "output_type": "execute_result"
    }
   ],
   "source": [
    "driver.find_element_by_id(\"sp_message_iframe_403823\")"
   ]
  },
  {
   "cell_type": "code",
   "execution_count": 3,
   "id": "verbal-plane",
   "metadata": {},
   "outputs": [],
   "source": [
    "driver.switch_to.frame(driver.find_element_by_id(\"sp_message_iframe_403823\"))\n"
   ]
  },
  {
   "cell_type": "code",
   "execution_count": 4,
   "id": "administrative-lyric",
   "metadata": {},
   "outputs": [],
   "source": [
    "driver.find_element_by_xpath(\"//button[text()='Accept']\").click()"
   ]
  }
 ],
 "metadata": {
  "kernelspec": {
   "display_name": "Python 3",
   "language": "python",
   "name": "python3"
  },
  "language_info": {
   "codemirror_mode": {
    "name": "ipython",
    "version": 3
   },
   "file_extension": ".py",
   "mimetype": "text/x-python",
   "name": "python",
   "nbconvert_exporter": "python",
   "pygments_lexer": "ipython3",
   "version": "3.8.8"
  }
 },
 "nbformat": 4,
 "nbformat_minor": 5
}
